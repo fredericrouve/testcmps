{
 "cells": [
  {
   "cell_type": "markdown",
   "id": "93555978",
   "metadata": {},
   "source": [
    "rehdgfhfdhfdghfdhfgfdhd\n",
    "1+1"
   ]
  },
  {
   "cell_type": "markdown",
   "id": "5cf745db",
   "metadata": {},
   "source": [
    "titre\n",
    "=====\n",
    "sous titre\n",
    "-------------\n",
    "# titre\n"
   ]
  },
  {
   "cell_type": "markdown",
   "id": "1376c1ae",
   "metadata": {},
   "source": [
    "fzrgegegdsg\n",
    "egegezgrez\n",
    "gdsgdsgfdsgdsg\n",
    "gzgsdgfdsf\n",
    "\n",
    "fdsddsgd"
   ]
  },
  {
   "cell_type": "markdown",
   "id": "b663fedd",
   "metadata": {},
   "source": [
    "en **gras\n",
    "    -ezkjflqdjlfqkd\n",
    "    -dfdlksjbsdljbsld-\n",
    "    -fkjvwvkdm\n",
    "    \n",
    "    -emgfjdsojds\n",
    "    -qslvhdlsqfjgd\n",
    "    \n",
    "            -afhfhqkd\n",
    "            -lfjlqkdfjlqkdf\n",
    "1.mogfkmdsfkgmds\n",
    "2.qkgdfkgù\n",
    "\n",
    "    1.ùkgmdskf\n",
    "    2.fkqmlkvdmfg"
   ]
  },
  {
   "cell_type": "markdown",
   "id": "04d2c9bd",
   "metadata": {},
   "source": []
  }
 ],
 "metadata": {
  "kernelspec": {
   "display_name": "Python 3 (ipykernel)",
   "language": "python",
   "name": "python3"
  },
  "language_info": {
   "codemirror_mode": {
    "name": "ipython",
    "version": 3
   },
   "file_extension": ".py",
   "mimetype": "text/x-python",
   "name": "python",
   "nbconvert_exporter": "python",
   "pygments_lexer": "ipython3",
   "version": "3.9.7"
  }
 },
 "nbformat": 4,
 "nbformat_minor": 5
}
